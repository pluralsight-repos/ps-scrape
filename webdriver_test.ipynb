{
 "cells": [
  {
   "cell_type": "markdown",
   "id": "3273b129-45ba-472f-bd8d-9acbf316bb74",
   "metadata": {},
   "source": [
    "# Webdriver Test"
   ]
  },
  {
   "cell_type": "code",
   "execution_count": 1,
   "id": "4818e6cd-1876-4a77-9a51-8cc1bd275467",
   "metadata": {},
   "outputs": [],
   "source": [
    "# import required libraries\n",
    "\n",
    "from selenium import webdriver"
   ]
  },
  {
   "cell_type": "code",
   "execution_count": 2,
   "id": "c623757a-cb3d-47a4-a422-2d2f5b1c1339",
   "metadata": {},
   "outputs": [],
   "source": [
    "# initialize the chrome driver\n",
    "driver = webdriver.Chrome()\n",
    "\n",
    "# navigate to weebsite\n",
    "driver.get(\"https://www.tesourodireto.com.br/\")\n"
   ]
  },
  {
   "cell_type": "code",
   "execution_count": 14,
   "id": "742a1553",
   "metadata": {},
   "outputs": [],
   "source": [
    "# scroll by a specific number of pixels\n",
    "driver.execute_script(\"window.scrollBy(0,1500)\")"
   ]
  },
  {
   "cell_type": "code",
   "execution_count": 15,
   "id": "f29b8538",
   "metadata": {},
   "outputs": [],
   "source": [
    "# scroll to the bottom of the page\n",
    "driver.execute_script(\"window.scrollTo(0, document.body.scrollHeight)\")"
   ]
  },
  {
   "cell_type": "code",
   "execution_count": 16,
   "id": "b8fa8494",
   "metadata": {},
   "outputs": [],
   "source": [
    "# scroll to the top the page\n",
    "driver.execute_script(\"window.scrollTo(0,0)\")"
   ]
  },
  {
   "cell_type": "code",
   "execution_count": 23,
   "id": "c86ccc52",
   "metadata": {},
   "outputs": [],
   "source": [
    "# close the webpage\n",
    "driver.quit()"
   ]
  },
  {
   "cell_type": "markdown",
   "id": "2027fcf4",
   "metadata": {},
   "source": [
    "# Opening a webpage with options"
   ]
  },
  {
   "cell_type": "code",
   "execution_count": 24,
   "id": "873559bf",
   "metadata": {},
   "outputs": [],
   "source": [
    "options = webdriver.ChromeOptions()\n",
    "# open incognito\n",
    "options.add_argument(\"--incognito\")\n",
    "# specfic window size\n",
    "options.add_argument(\"--window-size=1920,1080\")\n",
    "# headless\n",
    "options.add_argument(\"--headless\")\n",
    "\n",
    "\n",
    "# initialize the chrome driver\n",
    "driver = webdriver.Chrome(options=options)\n",
    "\n",
    "# navigate to weebsite\n",
    "driver.get(\"https://www.tesourodireto.com.br/\")\n"
   ]
  },
  {
   "cell_type": "code",
   "execution_count": 25,
   "id": "7eb11e84",
   "metadata": {},
   "outputs": [],
   "source": [
    "# close the webpage\n",
    "driver.quit()"
   ]
  },
  {
   "cell_type": "code",
   "execution_count": null,
   "id": "c39695b3",
   "metadata": {},
   "outputs": [],
   "source": []
  }
 ],
 "metadata": {
  "kernelspec": {
   "display_name": "Python 3 (ipykernel)",
   "language": "python",
   "name": "python3"
  },
  "language_info": {
   "codemirror_mode": {
    "name": "ipython",
    "version": 3
   },
   "file_extension": ".py",
   "mimetype": "text/x-python",
   "name": "python",
   "nbconvert_exporter": "python",
   "pygments_lexer": "ipython3",
   "version": "3.11.8"
  }
 },
 "nbformat": 4,
 "nbformat_minor": 5
}
